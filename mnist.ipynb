{
  "nbformat": 4,
  "nbformat_minor": 0,
  "metadata": {
    "kernelspec": {
      "display_name": "Python 3",
      "language": "python",
      "name": "python3"
    },
    "language_info": {
      "codemirror_mode": {
        "name": "ipython",
        "version": 3
      },
      "file_extension": ".py",
      "mimetype": "text/x-python",
      "name": "python",
      "nbconvert_exporter": "python",
      "pygments_lexer": "ipython3",
      "version": "3.6.5"
    },
    "colab": {
      "name": "mnist.ipynb",
      "version": "0.3.2",
      "provenance": [],
      "machine_shape": "hm"
    }
  },
  "cells": [
    {
      "cell_type": "code",
      "metadata": {
        "id": "GtMcm_b6OaRb",
        "colab_type": "code",
        "colab": {}
      },
      "source": [
        ""
      ],
      "execution_count": 0,
      "outputs": []
    },
    {
      "cell_type": "code",
      "metadata": {
        "id": "vwLsG7EQObIS",
        "colab_type": "code",
        "colab": {
          "base_uri": "https://localhost:8080/",
          "height": 128
        },
        "outputId": "a757d27f-ce15-436f-cb49-cd9496fb84b3"
      },
      "source": [
        "from google.colab import drive\n",
        "drive.mount('/content/drive')"
      ],
      "execution_count": 1,
      "outputs": [
        {
          "output_type": "stream",
          "text": [
            "Go to this URL in a browser: https://accounts.google.com/o/oauth2/auth?client_id=947318989803-6bn6qk8qdgf4n4g3pfee6491hc0brc4i.apps.googleusercontent.com&redirect_uri=urn%3Aietf%3Awg%3Aoauth%3A2.0%3Aoob&scope=email%20https%3A%2F%2Fwww.googleapis.com%2Fauth%2Fdocs.test%20https%3A%2F%2Fwww.googleapis.com%2Fauth%2Fdrive%20https%3A%2F%2Fwww.googleapis.com%2Fauth%2Fdrive.photos.readonly%20https%3A%2F%2Fwww.googleapis.com%2Fauth%2Fpeopleapi.readonly&response_type=code\n",
            "\n",
            "Enter your authorization code:\n",
            "··········\n",
            "Mounted at /content/drive\n"
          ],
          "name": "stdout"
        }
      ]
    },
    {
      "cell_type": "code",
      "metadata": {
        "id": "Qxi72lerOnOt",
        "colab_type": "code",
        "colab": {
          "base_uri": "https://localhost:8080/",
          "height": 35
        },
        "outputId": "514e24a7-c670-4540-c164-cf9b998c176a"
      },
      "source": [
        "%cd /content/drive/My Drive/Colab/mnist"
      ],
      "execution_count": 2,
      "outputs": [
        {
          "output_type": "stream",
          "text": [
            "/content/drive/My Drive/Colab/mnist\n"
          ],
          "name": "stdout"
        }
      ]
    },
    {
      "cell_type": "code",
      "metadata": {
        "id": "i3QiqnoZOORo",
        "colab_type": "code",
        "colab": {}
      },
      "source": [
        "import pandas as pd\n",
        "import numpy as np"
      ],
      "execution_count": 0,
      "outputs": []
    },
    {
      "cell_type": "code",
      "metadata": {
        "id": "b2YGQZEUOORw",
        "colab_type": "code",
        "colab": {}
      },
      "source": [
        "data_train = pd.read_csv(\"mnist_train.csv\")\n",
        "data_test = pd.read_csv(\"mnist_test.csv\")"
      ],
      "execution_count": 0,
      "outputs": []
    },
    {
      "cell_type": "code",
      "metadata": {
        "id": "F0Y6TvJWOOR8",
        "colab_type": "code",
        "colab": {}
      },
      "source": [
        "data_train = data_train.to_numpy()\n",
        "data_test = data_test.to_numpy()"
      ],
      "execution_count": 0,
      "outputs": []
    },
    {
      "cell_type": "code",
      "metadata": {
        "id": "hvCdR6oAOOSB",
        "colab_type": "code",
        "colab": {}
      },
      "source": [
        "X_train,y_train = data_train[:,1:],data_train[:,0]\n",
        "X_test,y_test = data_test[:,1:],data_test[:,0]"
      ],
      "execution_count": 0,
      "outputs": []
    },
    {
      "cell_type": "code",
      "metadata": {
        "id": "bD-ZBOOLOOSE",
        "colab_type": "code",
        "colab": {}
      },
      "source": [
        "import matplotlib.pyplot as plt"
      ],
      "execution_count": 0,
      "outputs": []
    },
    {
      "cell_type": "code",
      "metadata": {
        "id": "hSlsw_6SOOSK",
        "colab_type": "code",
        "colab": {}
      },
      "source": [
        "def normalize_image(train_img,test_img):\n",
        "    m,N = train_img.shape\n",
        "    mean = np.sum(train_img)/(m*N)\n",
        "    std = np.sqrt(np.sum((train_img-mean)**2)/(m*N))\n",
        "    train_img = (train_img-mean)/std\n",
        "    test_img = (test_img-mean)/std\n",
        "    return train_img,test_img"
      ],
      "execution_count": 0,
      "outputs": []
    },
    {
      "cell_type": "code",
      "metadata": {
        "id": "mUfmA2MUOOSQ",
        "colab_type": "code",
        "colab": {}
      },
      "source": [
        "def add_one(X):\n",
        "    return np.c_[X,np.ones((X.shape[0],1))]"
      ],
      "execution_count": 0,
      "outputs": []
    },
    {
      "cell_type": "code",
      "metadata": {
        "id": "qaAEr3sJOOSX",
        "colab_type": "code",
        "colab": {}
      },
      "source": [
        "def one_hot(labels):\n",
        "    eye = np.eye(10)\n",
        "    return eye[labels]"
      ],
      "execution_count": 0,
      "outputs": []
    },
    {
      "cell_type": "code",
      "metadata": {
        "id": "xGzPvoylOOSc",
        "colab_type": "code",
        "colab": {}
      },
      "source": [
        "def feed_forward(X,W):\n",
        "    z = X@W\n",
        "    exp_matrix = np.exp(z-np.max(z,axis = 1,keepdims = True))\n",
        "    return exp_matrix/np.sum(exp_matrix,axis = 1, keepdims = True)"
      ],
      "execution_count": 0,
      "outputs": []
    },
    {
      "cell_type": "code",
      "metadata": {
        "id": "OWcMsn8aOOSh",
        "colab_type": "code",
        "colab": {}
      },
      "source": [
        "def cost_function(y_hat,y):\n",
        "    m = y_hat.shape[0]\n",
        "    return -(np.sum(y*np.log(y_hat)))/m"
      ],
      "execution_count": 0,
      "outputs": []
    },
    {
      "cell_type": "code",
      "metadata": {
        "id": "3LgKYAMFOOSo",
        "colab_type": "code",
        "colab": {}
      },
      "source": [
        "def get_grad(X,y_hat,y):\n",
        "    m = X.shape[0]\n",
        "    w_grad = (X.T)@(y_hat-y)/m\n",
        "    return w_grad\n",
        "\n",
        "    "
      ],
      "execution_count": 0,
      "outputs": []
    },
    {
      "cell_type": "code",
      "metadata": {
        "id": "gQVdw9_6OOSw",
        "colab_type": "code",
        "colab": {}
      },
      "source": [
        "def confusion_matrix(y_hat,test_y):\n",
        "    y_hat = np.argmax(y_hat,axis = 1)\n",
        "    test_y = np.argmax(test_y,axis = 1)\n",
        "    confusion_mat  = np.zeros((10,10))\n",
        "    for i in range(10):\n",
        "        y_pred = (y_hat == i).astype(int)\n",
        "        m = np.sum(y_pred)\n",
        "        for j in range(10):\n",
        "            y_label = (test_y == j).astype(int)\n",
        "            confusion_mat[i,j] = np.sum(y_pred*y_label)/m\n",
        "    return confusion_mat"
      ],
      "execution_count": 0,
      "outputs": []
    },
    {
      "cell_type": "code",
      "metadata": {
        "id": "p1VxqPGwOOS7",
        "colab_type": "code",
        "colab": {}
      },
      "source": [
        "def update_weights(w,w_grad,learning_rate):\n",
        "    w = w - learning_rate*w_grad\n",
        "    return w"
      ],
      "execution_count": 0,
      "outputs": []
    },
    {
      "cell_type": "code",
      "metadata": {
        "id": "umtpAu9OUdRc",
        "colab_type": "code",
        "colab": {}
      },
      "source": [
        "def update_momentum(w,w_grad,learning_rate,momentum,momentum_rate):\n",
        "  momentum = momentum_rate*momentum + learning_rate*w_grad\n",
        "  w = w - momentum\n",
        "  return w"
      ],
      "execution_count": 0,
      "outputs": []
    },
    {
      "cell_type": "code",
      "metadata": {
        "id": "PJQdE-3iOOTE",
        "colab_type": "code",
        "colab": {}
      },
      "source": [
        "def plot_loss(all_loss):\n",
        "    plt.plot(all_loss)"
      ],
      "execution_count": 0,
      "outputs": []
    },
    {
      "cell_type": "code",
      "metadata": {
        "id": "skxdVzU-OOTI",
        "colab_type": "code",
        "colab": {}
      },
      "source": [
        "X_train,X_test = normalize_image(X_train,X_test)"
      ],
      "execution_count": 0,
      "outputs": []
    },
    {
      "cell_type": "code",
      "metadata": {
        "id": "uBUlZt8bOOTK",
        "colab_type": "code",
        "colab": {}
      },
      "source": [
        "X_train,X_test = add_one(X_train), add_one(X_test)"
      ],
      "execution_count": 0,
      "outputs": []
    },
    {
      "cell_type": "code",
      "metadata": {
        "id": "1FU2KWleOOTN",
        "colab_type": "code",
        "colab": {
          "base_uri": "https://localhost:8080/",
          "height": 35
        },
        "outputId": "21f4bcc6-13c9-469a-cd4f-e514137be1b0"
      },
      "source": [
        "y_train = one_hot(y_train.astype('int32').flatten().tolist())\n",
        "y_test = one_hot(y_test.astype('int32').flatten().tolist())\n",
        "y_train.shape"
      ],
      "execution_count": 131,
      "outputs": [
        {
          "output_type": "execute_result",
          "data": {
            "text/plain": [
              "(59999, 10)"
            ]
          },
          "metadata": {
            "tags": []
          },
          "execution_count": 131
        }
      ]
    },
    {
      "cell_type": "code",
      "metadata": {
        "id": "VnQSXUDTOOTQ",
        "colab_type": "code",
        "colab": {}
      },
      "source": [
        "epochs = 1000\n",
        "learning_rate = 0.1\n",
        "momentum_rate = 0.9\n",
        "W = np.random.randn(X_train.shape[1],10)\n",
        "all_loss = []\n",
        "momentum = np.zeros_like(W)"
      ],
      "execution_count": 0,
      "outputs": []
    },
    {
      "cell_type": "code",
      "metadata": {
        "id": "3YD-i8rXOOTT",
        "colab_type": "code",
        "colab": {
          "base_uri": "https://localhost:8080/",
          "height": 1000
        },
        "outputId": "cf797875-2f8f-414d-96cd-1b4e9a2409e2"
      },
      "source": [
        "for epoch in range(epochs):\n",
        "    y_hat = feed_forward(X_train,W)\n",
        "    loss = cost_function(y_hat,y_train)\n",
        "    w_grad = get_grad(X_train,y_hat,y_train)\n",
        "    W = update_momentum(W,w_grad,learning_rate,momentum,momentum_rate)\n",
        "    all_loss.append(loss)\n",
        "    if epoch % 10 == 0:\n",
        "        plot_loss(all_loss)\n",
        "        print(\"Epoch %d: loss is %.5f\" % (epoch+1, loss))"
      ],
      "execution_count": 133,
      "outputs": [
        {
          "output_type": "stream",
          "text": [
            "Epoch 1: loss is 42.74447\n",
            "Epoch 11: loss is 24.64755\n",
            "Epoch 21: loss is 15.57127\n",
            "Epoch 31: loss is 11.63713\n",
            "Epoch 41: loss is 9.45131\n",
            "Epoch 51: loss is 8.06730\n",
            "Epoch 61: loss is 7.11327\n",
            "Epoch 71: loss is 6.41508\n",
            "Epoch 81: loss is 5.88080\n",
            "Epoch 91: loss is 5.45920\n",
            "Epoch 101: loss is 5.11746\n",
            "Epoch 111: loss is 4.83367\n",
            "Epoch 121: loss is 4.59373\n",
            "Epoch 131: loss is 4.38801\n",
            "Epoch 141: loss is 4.20945\n",
            "Epoch 151: loss is 4.05284\n",
            "Epoch 161: loss is 3.91414\n",
            "Epoch 171: loss is 3.79018\n",
            "Epoch 181: loss is 3.67853\n",
            "Epoch 191: loss is 3.57735\n",
            "Epoch 201: loss is 3.48522\n",
            "Epoch 211: loss is 3.40096\n",
            "Epoch 221: loss is 3.32359\n",
            "Epoch 231: loss is 3.25227\n",
            "Epoch 241: loss is 3.18627\n",
            "Epoch 251: loss is 3.12494\n",
            "Epoch 261: loss is 3.06776\n",
            "Epoch 271: loss is 3.01426\n",
            "Epoch 281: loss is 2.96407\n",
            "Epoch 291: loss is 2.91685\n",
            "Epoch 301: loss is 2.87232\n",
            "Epoch 311: loss is 2.83020\n",
            "Epoch 321: loss is 2.79029\n",
            "Epoch 331: loss is 2.75237\n",
            "Epoch 341: loss is 2.71627\n",
            "Epoch 351: loss is 2.68184\n",
            "Epoch 361: loss is 2.64895\n",
            "Epoch 371: loss is 2.61749\n",
            "Epoch 381: loss is 2.58736\n",
            "Epoch 391: loss is 2.55846\n",
            "Epoch 401: loss is 2.53073\n",
            "Epoch 411: loss is 2.50407\n",
            "Epoch 421: loss is 2.47843\n",
            "Epoch 431: loss is 2.45373\n",
            "Epoch 441: loss is 2.42990\n",
            "Epoch 451: loss is 2.40690\n",
            "Epoch 461: loss is 2.38468\n",
            "Epoch 471: loss is 2.36318\n",
            "Epoch 481: loss is 2.34237\n",
            "Epoch 491: loss is 2.32221\n",
            "Epoch 501: loss is 2.30266\n",
            "Epoch 511: loss is 2.28371\n",
            "Epoch 521: loss is 2.26532\n",
            "Epoch 531: loss is 2.24746\n",
            "Epoch 541: loss is 2.23011\n",
            "Epoch 551: loss is 2.21324\n",
            "Epoch 561: loss is 2.19683\n",
            "Epoch 571: loss is 2.18087\n",
            "Epoch 581: loss is 2.16533\n",
            "Epoch 591: loss is 2.15019\n",
            "Epoch 601: loss is 2.13544\n",
            "Epoch 611: loss is 2.12107\n",
            "Epoch 621: loss is 2.10704\n",
            "Epoch 631: loss is 2.09336\n",
            "Epoch 641: loss is 2.08000\n",
            "Epoch 651: loss is 2.06695\n",
            "Epoch 661: loss is 2.05420\n",
            "Epoch 671: loss is 2.04173\n",
            "Epoch 681: loss is 2.02954\n",
            "Epoch 691: loss is 2.01761\n",
            "Epoch 701: loss is 2.00594\n",
            "Epoch 711: loss is 1.99450\n",
            "Epoch 721: loss is 1.98330\n",
            "Epoch 731: loss is 1.97233\n",
            "Epoch 741: loss is 1.96157\n",
            "Epoch 751: loss is 1.95102\n",
            "Epoch 761: loss is 1.94067\n",
            "Epoch 771: loss is 1.93051\n",
            "Epoch 781: loss is 1.92054\n",
            "Epoch 791: loss is 1.91075\n",
            "Epoch 801: loss is 1.90114\n",
            "Epoch 811: loss is 1.89169\n",
            "Epoch 821: loss is 1.88241\n",
            "Epoch 831: loss is 1.87328\n",
            "Epoch 841: loss is 1.86431\n",
            "Epoch 851: loss is 1.85548\n",
            "Epoch 861: loss is 1.84680\n",
            "Epoch 871: loss is 1.83825\n",
            "Epoch 881: loss is 1.82984\n",
            "Epoch 891: loss is 1.82156\n",
            "Epoch 901: loss is 1.81340\n",
            "Epoch 911: loss is 1.80537\n",
            "Epoch 921: loss is 1.79745\n",
            "Epoch 931: loss is 1.78965\n",
            "Epoch 941: loss is 1.78196\n",
            "Epoch 951: loss is 1.77439\n",
            "Epoch 961: loss is 1.76692\n",
            "Epoch 971: loss is 1.75955\n",
            "Epoch 981: loss is 1.75229\n",
            "Epoch 991: loss is 1.74512\n"
          ],
          "name": "stdout"
        },
        {
          "output_type": "display_data",
          "data": {
            "image/png": "[encoded data removed]",
            "text/plain": [
              "<Figure size 432x288 with 1 Axes>"
            ]
          },
          "metadata": {
            "tags": []
          }
        }
      ]
    },
    {
      "cell_type": "code",
      "metadata": {
        "id": "XVSg7hbbOOTc",
        "colab_type": "code",
        "colab": {}
      },
      "source": [
        "y_hat = feed_forward(X_test,W)"
      ],
      "execution_count": 0,
      "outputs": []
    },
    {
      "cell_type": "code",
      "metadata": {
        "id": "i9fGy1JsQ-lm",
        "colab_type": "code",
        "colab": {
          "base_uri": "https://localhost:8080/",
          "height": 35
        },
        "outputId": "70a03807-eb51-4ec3-f766-6c904e7cd33b"
      },
      "source": [
        "np.sum(np.argmax(y_hat,axis = 1) == np.argmax(y_test,axis = 1))/(y_test.shape[0])"
      ],
      "execution_count": 146,
      "outputs": [
        {
          "output_type": "execute_result",
          "data": {
            "text/plain": [
              "0.8573857385738574"
            ]
          },
          "metadata": {
            "tags": []
          },
          "execution_count": 146
        }
      ]
    },
    {
      "cell_type": "code",
      "metadata": {
        "id": "owutsAyoSDAS",
        "colab_type": "code",
        "colab": {}
      },
      "source": [
        ""
      ],
      "execution_count": 0,
      "outputs": []
    }
  ]
}